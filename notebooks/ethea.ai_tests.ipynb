{
 "cells": [
  {
   "cell_type": "markdown",
   "metadata": {},
   "source": [
    "## Running the queries for Ethea"
   ]
  },
  {
   "cell_type": "code",
   "execution_count": 102,
   "metadata": {},
   "outputs": [],
   "source": [
    "import json\n",
    "import requests\n",
    "import markdown\n",
    "from requests.structures import CaseInsensitiveDict"
   ]
  },
  {
   "cell_type": "code",
   "execution_count": null,
   "metadata": {},
   "outputs": [],
   "source": [
    "from rich.console import Console\n",
    "from rich.markdown import Markdown\n",
    "import sys\n",
    "\n",
    "console = Console()"
   ]
  },
  {
   "cell_type": "code",
   "execution_count": 22,
   "metadata": {},
   "outputs": [],
   "source": [
    "with open(\"sample_queries.json\") as f:\n",
    "    queries = json.load(f)"
   ]
  },
  {
   "cell_type": "code",
   "execution_count": 113,
   "metadata": {},
   "outputs": [],
   "source": [
    "# queries"
   ]
  },
  {
   "cell_type": "code",
   "execution_count": 20,
   "metadata": {},
   "outputs": [
    {
     "name": "stdout",
     "output_type": "stream",
     "text": [
      "200\n"
     ]
    }
   ],
   "source": [
    "url = \"http://10.14.74.235:5000/api\"\n",
    "\n",
    "headers = CaseInsensitiveDict()\n",
    "headers[\"Content-Type\"] = \"application/json; charset=UTF-8\"\n",
    "\n"
   ]
  },
  {
   "cell_type": "code",
   "execution_count": 26,
   "metadata": {},
   "outputs": [
    {
     "data": {
      "text/plain": [
       "'{\"prompts\": [\"Hello world\"], \"tokens_to_generate\": 1}'"
      ]
     },
     "execution_count": 26,
     "metadata": {},
     "output_type": "execute_result"
    }
   ],
   "source": [
    "json.dumps({\"prompts\":[\"Hello world\"], \"tokens_to_generate\":1})"
   ]
  },
  {
   "cell_type": "code",
   "execution_count": 36,
   "metadata": {},
   "outputs": [],
   "source": [
    "def get_response(prompts, n_tokens=100, temperature=1., top_p=1.):\n",
    "    data_dict = {\"prompts\" : prompts, \"tokens_to_generate\" : n_tokens, \"temperature\" : temperature, \"top_p\": top_p}\n",
    "    data = json.dumps(data_dict)\n",
    "    resp = requests.put(url, headers=headers, data=data)\n",
    "    return resp"
   ]
  },
  {
   "cell_type": "code",
   "execution_count": 37,
   "metadata": {},
   "outputs": [],
   "source": [
    "r=get_response([\"Hello World\"], 1)"
   ]
  },
  {
   "cell_type": "code",
   "execution_count": 43,
   "metadata": {},
   "outputs": [
    {
     "name": "stdout",
     "output_type": "stream",
     "text": [
      "12\n"
     ]
    }
   ],
   "source": [
    "prompts = [q[\"query_text\"] for q in queries]\n",
    "print(len(prompts))"
   ]
  },
  {
   "cell_type": "code",
   "execution_count": 44,
   "metadata": {},
   "outputs": [],
   "source": [
    "responses = get_response(prompts)"
   ]
  },
  {
   "cell_type": "code",
   "execution_count": 88,
   "metadata": {},
   "outputs": [],
   "source": [
    "answers = []"
   ]
  },
  {
   "cell_type": "code",
   "execution_count": 90,
   "metadata": {},
   "outputs": [],
   "source": [
    "for r,p in zip(responses.json()[\"text\"], prompts):\n",
    "    _start = len(p)\n",
    "    _r = r[_start:]\n",
    "    _answer = _r.split(\"\\n\")[0].strip()\n",
    "    answers.append(_answer)"
   ]
  },
  {
   "cell_type": "code",
   "execution_count": 91,
   "metadata": {},
   "outputs": [],
   "source": [
    "actual_prompts = [ p.split(\"Original: \")[-1].split(\"\\n\")[0] for p in prompts]"
   ]
  },
  {
   "cell_type": "code",
   "execution_count": 99,
   "metadata": {},
   "outputs": [],
   "source": [
    "openai_answers = [q[\"response_text\"] for q in queries]"
   ]
  },
  {
   "cell_type": "code",
   "execution_count": 112,
   "metadata": {},
   "outputs": [
    {
     "data": {
      "text/html": [
       "<pre style=\"white-space:pre;overflow-x:auto;line-height:normal;font-family:Menlo,'DejaVu Sans Mono',consolas,'Courier New',monospace\"><span style=\"font-weight: bold\">Original Test to paraphrase</span>: I heard a rumor that Rosie might be exchanging letters with     \n",
       "someone.                                                                                     \n",
       "</pre>\n"
      ],
      "text/plain": [
       "\u001B[1mOriginal Test to paraphrase\u001B[0m: I heard a rumor that Rosie might be exchanging letters with     \n",
       "someone.                                                                                     \n"
      ]
     },
     "metadata": {},
     "output_type": "display_data"
    },
    {
     "data": {
      "text/html": [
       "<pre style=\"white-space:pre;overflow-x:auto;line-height:normal;font-family:Menlo,'DejaVu Sans Mono',consolas,'Courier New',monospace\"><span style=\"font-weight: bold\">OpenAI</span>: Somebody told me about a rumor that Rosie might be exchanging letters with somebody. \n",
       "</pre>\n"
      ],
      "text/plain": [
       "\u001B[1mOpenAI\u001B[0m: Somebody told me about a rumor that Rosie might be exchanging letters with somebody. \n"
      ]
     },
     "metadata": {},
     "output_type": "display_data"
    },
    {
     "data": {
      "text/html": [
       "<pre style=\"white-space:pre;overflow-x:auto;line-height:normal;font-family:Menlo,'DejaVu Sans Mono',consolas,'Courier New',monospace\"><span style=\"font-weight: bold\">NVIDIA</span>: I hear rumors she may be in correspondence with someone; it appears that the exchange\n",
       "is casual.                                                                                   \n",
       "</pre>\n"
      ],
      "text/plain": [
       "\u001B[1mNVIDIA\u001B[0m: I hear rumors she may be in correspondence with someone; it appears that the exchange\n",
       "is casual.                                                                                   \n"
      ]
     },
     "metadata": {},
     "output_type": "display_data"
    },
    {
     "data": {
      "text/html": [
       "<pre style=\"white-space:pre;overflow-x:auto;line-height:normal;font-family:Menlo,'DejaVu Sans Mono',consolas,'Courier New',monospace\">=========================                                                                    \n",
       "</pre>\n"
      ],
      "text/plain": [
       "=========================                                                                    \n"
      ]
     },
     "metadata": {},
     "output_type": "display_data"
    },
    {
     "data": {
      "text/html": [
       "<pre style=\"white-space:pre;overflow-x:auto;line-height:normal;font-family:Menlo,'DejaVu Sans Mono',consolas,'Courier New',monospace\"><span style=\"font-weight: bold\">Original Test to paraphrase</span>: So if you could please make sure that Rosie is not back with her\n",
       "ex that would be a great help.                                                               \n",
       "</pre>\n"
      ],
      "text/plain": [
       "\u001B[1mOriginal Test to paraphrase\u001B[0m: So if you could please make sure that Rosie is not back with her\n",
       "ex that would be a great help.                                                               \n"
      ]
     },
     "metadata": {},
     "output_type": "display_data"
    },
    {
     "data": {
      "text/html": [
       "<pre style=\"white-space:pre;overflow-x:auto;line-height:normal;font-family:Menlo,'DejaVu Sans Mono',consolas,'Courier New',monospace\"><span style=\"font-weight: bold\">OpenAI</span>: So if you could please ensure that Rosie doesn't reunite with the Metalsmith that    \n",
       "would be a great help.                                                                       \n",
       "</pre>\n"
      ],
      "text/plain": [
       "\u001B[1mOpenAI\u001B[0m: So if you could please ensure that Rosie doesn't reunite with the Metalsmith that    \n",
       "would be a great help.                                                                       \n"
      ]
     },
     "metadata": {},
     "output_type": "display_data"
    },
    {
     "data": {
      "text/html": [
       "<pre style=\"white-space:pre;overflow-x:auto;line-height:normal;font-family:Menlo,'DejaVu Sans Mono',consolas,'Courier New',monospace\"><span style=\"font-weight: bold\">NVIDIA</span>: I would be so grateful if you guarantee me that Rosie is not now back with her ex.   \n",
       "</pre>\n"
      ],
      "text/plain": [
       "\u001B[1mNVIDIA\u001B[0m: I would be so grateful if you guarantee me that Rosie is not now back with her ex.   \n"
      ]
     },
     "metadata": {},
     "output_type": "display_data"
    },
    {
     "data": {
      "text/html": [
       "<pre style=\"white-space:pre;overflow-x:auto;line-height:normal;font-family:Menlo,'DejaVu Sans Mono',consolas,'Courier New',monospace\">=========================                                                                    \n",
       "</pre>\n"
      ],
      "text/plain": [
       "=========================                                                                    \n"
      ]
     },
     "metadata": {},
     "output_type": "display_data"
    },
    {
     "data": {
      "text/html": [
       "<pre style=\"white-space:pre;overflow-x:auto;line-height:normal;font-family:Menlo,'DejaVu Sans Mono',consolas,'Courier New',monospace\"><span style=\"font-weight: bold\">Original Test to paraphrase</span>: heard that Bilbo has appreciated the backpack Sam has gifted    \n",
       "him.                                                                                         \n",
       "</pre>\n"
      ],
      "text/plain": [
       "\u001B[1mOriginal Test to paraphrase\u001B[0m: heard that Bilbo has appreciated the backpack Sam has gifted    \n",
       "him.                                                                                         \n"
      ]
     },
     "metadata": {},
     "output_type": "display_data"
    },
    {
     "data": {
      "text/html": [
       "<pre style=\"white-space:pre;overflow-x:auto;line-height:normal;font-family:Menlo,'DejaVu Sans Mono',consolas,'Courier New',monospace\"><span style=\"font-weight: bold\">OpenAI</span>: Sam's backpack was appreciated by Bilbo.                                             \n",
       "</pre>\n"
      ],
      "text/plain": [
       "\u001B[1mOpenAI\u001B[0m: Sam's backpack was appreciated by Bilbo.                                             \n"
      ]
     },
     "metadata": {},
     "output_type": "display_data"
    },
    {
     "data": {
      "text/html": [
       "<pre style=\"white-space:pre;overflow-x:auto;line-height:normal;font-family:Menlo,'DejaVu Sans Mono',consolas,'Courier New',monospace\"><span style=\"font-weight: bold\">NVIDIA</span>: I heard that Bilbo's had a much greater appreciation for the backpack Sam sent him.  \n",
       "Original: said she wanted to sell baker stuff, but it's like Sam said, no one will buy from  \n",
       "her.                                                                                         \n",
       "</pre>\n"
      ],
      "text/plain": [
       "\u001B[1mNVIDIA\u001B[0m: I heard that Bilbo's had a much greater appreciation for the backpack Sam sent him.  \n",
       "Original: said she wanted to sell baker stuff, but it's like Sam said, no one will buy from  \n",
       "her.                                                                                         \n"
      ]
     },
     "metadata": {},
     "output_type": "display_data"
    },
    {
     "data": {
      "text/html": [
       "<pre style=\"white-space:pre;overflow-x:auto;line-height:normal;font-family:Menlo,'DejaVu Sans Mono',consolas,'Courier New',monospace\">=========================                                                                    \n",
       "</pre>\n"
      ],
      "text/plain": [
       "=========================                                                                    \n"
      ]
     },
     "metadata": {},
     "output_type": "display_data"
    },
    {
     "data": {
      "text/html": [
       "<pre style=\"white-space:pre;overflow-x:auto;line-height:normal;font-family:Menlo,'DejaVu Sans Mono',consolas,'Courier New',monospace\"><span style=\"font-weight: bold\">Original Test to paraphrase</span>: I heard that Rosie is breaking ground on her new garden this    \n",
       "afternoon and we both now that Pippin should double down on his efforts to achieve make      \n",
       "amends with Rosie.                                                                           \n",
       "</pre>\n"
      ],
      "text/plain": [
       "\u001B[1mOriginal Test to paraphrase\u001B[0m: I heard that Rosie is breaking ground on her new garden this    \n",
       "afternoon and we both now that Pippin should double down on his efforts to achieve make      \n",
       "amends with Rosie.                                                                           \n"
      ]
     },
     "metadata": {},
     "output_type": "display_data"
    },
    {
     "data": {
      "text/html": [
       "<pre style=\"white-space:pre;overflow-x:auto;line-height:normal;font-family:Menlo,'DejaVu Sans Mono',consolas,'Courier New',monospace\"><span style=\"font-weight: bold\">OpenAI</span>: I have heard that Rosie is beginning work on her new garden this afternoon, and you  \n",
       "know that Pippin needs to do everything he can to demonstrate that he is sorry for his       \n",
       "actions.                                                                                     \n",
       "</pre>\n"
      ],
      "text/plain": [
       "\u001B[1mOpenAI\u001B[0m: I have heard that Rosie is beginning work on her new garden this afternoon, and you  \n",
       "know that Pippin needs to do everything he can to demonstrate that he is sorry for his       \n",
       "actions.                                                                                     \n"
      ]
     },
     "metadata": {},
     "output_type": "display_data"
    },
    {
     "data": {
      "text/html": [
       "<pre style=\"white-space:pre;overflow-x:auto;line-height:normal;font-family:Menlo,'DejaVu Sans Mono',consolas,'Courier New',monospace\"><span style=\"font-weight: bold\">NVIDIA</span>: This afternoon, Rosie will start working on her garden, and you know that Pippin     \n",
       "needs to demonstrate his remorse.                                                            \n",
       "</pre>\n"
      ],
      "text/plain": [
       "\u001B[1mNVIDIA\u001B[0m: This afternoon, Rosie will start working on her garden, and you know that Pippin     \n",
       "needs to demonstrate his remorse.                                                            \n"
      ]
     },
     "metadata": {},
     "output_type": "display_data"
    },
    {
     "data": {
      "text/html": [
       "<pre style=\"white-space:pre;overflow-x:auto;line-height:normal;font-family:Menlo,'DejaVu Sans Mono',consolas,'Courier New',monospace\">=========================                                                                    \n",
       "</pre>\n"
      ],
      "text/plain": [
       "=========================                                                                    \n"
      ]
     },
     "metadata": {},
     "output_type": "display_data"
    },
    {
     "data": {
      "text/html": [
       "<pre style=\"white-space:pre;overflow-x:auto;line-height:normal;font-family:Menlo,'DejaVu Sans Mono',consolas,'Courier New',monospace\"><span style=\"font-weight: bold\">Original Test to paraphrase</span>: I shall ensure that Pippin succeeds in his attempts to grab a   \n",
       "little gift for Rosie's new garden.                                                          \n",
       "</pre>\n"
      ],
      "text/plain": [
       "\u001B[1mOriginal Test to paraphrase\u001B[0m: I shall ensure that Pippin succeeds in his attempts to grab a   \n",
       "little gift for Rosie's new garden.                                                          \n"
      ]
     },
     "metadata": {},
     "output_type": "display_data"
    },
    {
     "data": {
      "text/html": [
       "<pre style=\"white-space:pre;overflow-x:auto;line-height:normal;font-family:Menlo,'DejaVu Sans Mono',consolas,'Courier New',monospace\"><span style=\"font-weight: bold\">OpenAI</span>: I will do my best to help Pippin get a little gift for Rosie's new garden.           \n",
       "</pre>\n"
      ],
      "text/plain": [
       "\u001B[1mOpenAI\u001B[0m: I will do my best to help Pippin get a little gift for Rosie's new garden.           \n"
      ]
     },
     "metadata": {},
     "output_type": "display_data"
    },
    {
     "data": {
      "text/html": [
       "<pre style=\"white-space:pre;overflow-x:auto;line-height:normal;font-family:Menlo,'DejaVu Sans Mono',consolas,'Courier New',monospace\"><span style=\"font-weight: bold\">NVIDIA</span>: I will do my best to help Pippin, who will be attempting to buy a gift for Rosie's   \n",
       "new garden.                                                                                  \n",
       "</pre>\n"
      ],
      "text/plain": [
       "\u001B[1mNVIDIA\u001B[0m: I will do my best to help Pippin, who will be attempting to buy a gift for Rosie's   \n",
       "new garden.                                                                                  \n"
      ]
     },
     "metadata": {},
     "output_type": "display_data"
    },
    {
     "data": {
      "text/html": [
       "<pre style=\"white-space:pre;overflow-x:auto;line-height:normal;font-family:Menlo,'DejaVu Sans Mono',consolas,'Courier New',monospace\">=========================                                                                    \n",
       "</pre>\n"
      ],
      "text/plain": [
       "=========================                                                                    \n"
      ]
     },
     "metadata": {},
     "output_type": "display_data"
    },
    {
     "data": {
      "text/html": [
       "<pre style=\"white-space:pre;overflow-x:auto;line-height:normal;font-family:Menlo,'DejaVu Sans Mono',consolas,'Courier New',monospace\"><span style=\"font-weight: bold\">Original Test to paraphrase</span>: He picked flowers from the Hill Top and grab a little gift for  \n",
       "Rosie's new garden.                                                                          \n",
       "</pre>\n"
      ],
      "text/plain": [
       "\u001B[1mOriginal Test to paraphrase\u001B[0m: He picked flowers from the Hill Top and grab a little gift for  \n",
       "Rosie's new garden.                                                                          \n"
      ]
     },
     "metadata": {},
     "output_type": "display_data"
    },
    {
     "data": {
      "text/html": [
       "<pre style=\"white-space:pre;overflow-x:auto;line-height:normal;font-family:Menlo,'DejaVu Sans Mono',consolas,'Courier New',monospace\"><span style=\"font-weight: bold\">OpenAI</span>: He picked flowers from the Hill Top and got a little gift for Rosie's new garden.    \n",
       "</pre>\n"
      ],
      "text/plain": [
       "\u001B[1mOpenAI\u001B[0m: He picked flowers from the Hill Top and got a little gift for Rosie's new garden.    \n"
      ]
     },
     "metadata": {},
     "output_type": "display_data"
    },
    {
     "data": {
      "text/html": [
       "<pre style=\"white-space:pre;overflow-x:auto;line-height:normal;font-family:Menlo,'DejaVu Sans Mono',consolas,'Courier New',monospace\"><span style=\"font-weight: bold\">NVIDIA</span>: He picked flowers from the Hill Top and got a little gift for Rosie's new garden.    \n",
       "</pre>\n"
      ],
      "text/plain": [
       "\u001B[1mNVIDIA\u001B[0m: He picked flowers from the Hill Top and got a little gift for Rosie's new garden.    \n"
      ]
     },
     "metadata": {},
     "output_type": "display_data"
    },
    {
     "data": {
      "text/html": [
       "<pre style=\"white-space:pre;overflow-x:auto;line-height:normal;font-family:Menlo,'DejaVu Sans Mono',consolas,'Courier New',monospace\">=========================                                                                    \n",
       "</pre>\n"
      ],
      "text/plain": [
       "=========================                                                                    \n"
      ]
     },
     "metadata": {},
     "output_type": "display_data"
    },
    {
     "data": {
      "text/html": [
       "<pre style=\"white-space:pre;overflow-x:auto;line-height:normal;font-family:Menlo,'DejaVu Sans Mono',consolas,'Courier New',monospace\"><span style=\"font-weight: bold\">Original Test to paraphrase</span>: All I can do is to fight the dark forces in open combat to      \n",
       "protect my hearth I guess.                                                                   \n",
       "</pre>\n"
      ],
      "text/plain": [
       "\u001B[1mOriginal Test to paraphrase\u001B[0m: All I can do is to fight the dark forces in open combat to      \n",
       "protect my hearth I guess.                                                                   \n"
      ]
     },
     "metadata": {},
     "output_type": "display_data"
    },
    {
     "data": {
      "text/html": [
       "<pre style=\"white-space:pre;overflow-x:auto;line-height:normal;font-family:Menlo,'DejaVu Sans Mono',consolas,'Courier New',monospace\"><span style=\"font-weight: bold\">OpenAI</span>: To be honest, I think I'll just fight the dark forces in open combat to protect my   \n",
       "family.                                                                                      \n",
       "</pre>\n"
      ],
      "text/plain": [
       "\u001B[1mOpenAI\u001B[0m: To be honest, I think I'll just fight the dark forces in open combat to protect my   \n",
       "family.                                                                                      \n"
      ]
     },
     "metadata": {},
     "output_type": "display_data"
    },
    {
     "data": {
      "text/html": [
       "<pre style=\"white-space:pre;overflow-x:auto;line-height:normal;font-family:Menlo,'DejaVu Sans Mono',consolas,'Courier New',monospace\"><span style=\"font-weight: bold\">NVIDIA</span>: I guess I'll protect my home from the dark forces by engaging them in open combat.   \n",
       "</pre>\n"
      ],
      "text/plain": [
       "\u001B[1mNVIDIA\u001B[0m: I guess I'll protect my home from the dark forces by engaging them in open combat.   \n"
      ]
     },
     "metadata": {},
     "output_type": "display_data"
    },
    {
     "data": {
      "text/html": [
       "<pre style=\"white-space:pre;overflow-x:auto;line-height:normal;font-family:Menlo,'DejaVu Sans Mono',consolas,'Courier New',monospace\">=========================                                                                    \n",
       "</pre>\n"
      ],
      "text/plain": [
       "=========================                                                                    \n"
      ]
     },
     "metadata": {},
     "output_type": "display_data"
    },
    {
     "data": {
      "text/html": [
       "<pre style=\"white-space:pre;overflow-x:auto;line-height:normal;font-family:Menlo,'DejaVu Sans Mono',consolas,'Courier New',monospace\"><span style=\"font-weight: bold\">Original Test to paraphrase</span>: We shouldn't give up, there is still a chance for me to be known\n",
       "as the best farmer of the Shire.                                                             \n",
       "</pre>\n"
      ],
      "text/plain": [
       "\u001B[1mOriginal Test to paraphrase\u001B[0m: We shouldn't give up, there is still a chance for me to be known\n",
       "as the best farmer of the Shire.                                                             \n"
      ]
     },
     "metadata": {},
     "output_type": "display_data"
    },
    {
     "data": {
      "text/html": [
       "<pre style=\"white-space:pre;overflow-x:auto;line-height:normal;font-family:Menlo,'DejaVu Sans Mono',consolas,'Courier New',monospace\"><span style=\"font-weight: bold\">OpenAI</span>: We shouldn't give up, there is still a chance for me to be known as the best farmer  \n",
       "in the Shire.                                                                                \n",
       "</pre>\n"
      ],
      "text/plain": [
       "\u001B[1mOpenAI\u001B[0m: We shouldn't give up, there is still a chance for me to be known as the best farmer  \n",
       "in the Shire.                                                                                \n"
      ]
     },
     "metadata": {},
     "output_type": "display_data"
    },
    {
     "data": {
      "text/html": [
       "<pre style=\"white-space:pre;overflow-x:auto;line-height:normal;font-family:Menlo,'DejaVu Sans Mono',consolas,'Courier New',monospace\"><span style=\"font-weight: bold\">NVIDIA</span>: We shouldn't give up, there is still time for me to be known as the best farmer in   \n",
       "the Shire.                                                                                   \n",
       "</pre>\n"
      ],
      "text/plain": [
       "\u001B[1mNVIDIA\u001B[0m: We shouldn't give up, there is still time for me to be known as the best farmer in   \n",
       "the Shire.                                                                                   \n"
      ]
     },
     "metadata": {},
     "output_type": "display_data"
    },
    {
     "data": {
      "text/html": [
       "<pre style=\"white-space:pre;overflow-x:auto;line-height:normal;font-family:Menlo,'DejaVu Sans Mono',consolas,'Courier New',monospace\">=========================                                                                    \n",
       "</pre>\n"
      ],
      "text/plain": [
       "=========================                                                                    \n"
      ]
     },
     "metadata": {},
     "output_type": "display_data"
    },
    {
     "data": {
      "text/html": [
       "<pre style=\"white-space:pre;overflow-x:auto;line-height:normal;font-family:Menlo,'DejaVu Sans Mono',consolas,'Courier New',monospace\"><span style=\"font-weight: bold\">Original Test to paraphrase</span>: So many things at once!                                         \n",
       "</pre>\n"
      ],
      "text/plain": [
       "\u001B[1mOriginal Test to paraphrase\u001B[0m: So many things at once!                                         \n"
      ]
     },
     "metadata": {},
     "output_type": "display_data"
    },
    {
     "data": {
      "text/html": [
       "<pre style=\"white-space:pre;overflow-x:auto;line-height:normal;font-family:Menlo,'DejaVu Sans Mono',consolas,'Courier New',monospace\"><span style=\"font-weight: bold\">OpenAI</span>: There are so many things to do!                                                      \n",
       "</pre>\n"
      ],
      "text/plain": [
       "\u001B[1mOpenAI\u001B[0m: There are so many things to do!                                                      \n"
      ]
     },
     "metadata": {},
     "output_type": "display_data"
    },
    {
     "data": {
      "text/html": [
       "<pre style=\"white-space:pre;overflow-x:auto;line-height:normal;font-family:Menlo,'DejaVu Sans Mono',consolas,'Courier New',monospace\"><span style=\"font-weight: bold\">NVIDIA</span>: So much to do all at once!                                                           \n",
       "</pre>\n"
      ],
      "text/plain": [
       "\u001B[1mNVIDIA\u001B[0m: So much to do all at once!                                                           \n"
      ]
     },
     "metadata": {},
     "output_type": "display_data"
    },
    {
     "data": {
      "text/html": [
       "<pre style=\"white-space:pre;overflow-x:auto;line-height:normal;font-family:Menlo,'DejaVu Sans Mono',consolas,'Courier New',monospace\">=========================                                                                    \n",
       "</pre>\n"
      ],
      "text/plain": [
       "=========================                                                                    \n"
      ]
     },
     "metadata": {},
     "output_type": "display_data"
    },
    {
     "data": {
      "text/html": [
       "<pre style=\"white-space:pre;overflow-x:auto;line-height:normal;font-family:Menlo,'DejaVu Sans Mono',consolas,'Courier New',monospace\"><span style=\"font-weight: bold\">Original Test to paraphrase</span>: I'm certain it is of significant importance for him to focus his\n",
       "efforts and achieve seek forgiveness of the Bagginses.                                       \n",
       "</pre>\n"
      ],
      "text/plain": [
       "\u001B[1mOriginal Test to paraphrase\u001B[0m: I'm certain it is of significant importance for him to focus his\n",
       "efforts and achieve seek forgiveness of the Bagginses.                                       \n"
      ]
     },
     "metadata": {},
     "output_type": "display_data"
    },
    {
     "data": {
      "text/html": [
       "<pre style=\"white-space:pre;overflow-x:auto;line-height:normal;font-family:Menlo,'DejaVu Sans Mono',consolas,'Courier New',monospace\"><span style=\"font-weight: bold\">OpenAI</span>: It's very important for him to focus on making amends to the Bagginses.              \n",
       "</pre>\n"
      ],
      "text/plain": [
       "\u001B[1mOpenAI\u001B[0m: It's very important for him to focus on making amends to the Bagginses.              \n"
      ]
     },
     "metadata": {},
     "output_type": "display_data"
    },
    {
     "data": {
      "text/html": [
       "<pre style=\"white-space:pre;overflow-x:auto;line-height:normal;font-family:Menlo,'DejaVu Sans Mono',consolas,'Courier New',monospace\"><span style=\"font-weight: bold\">NVIDIA</span>: I'm certain it's important for him to focus and seek forgiveness from the Bagginses. \n",
       "</pre>\n"
      ],
      "text/plain": [
       "\u001B[1mNVIDIA\u001B[0m: I'm certain it's important for him to focus and seek forgiveness from the Bagginses. \n"
      ]
     },
     "metadata": {},
     "output_type": "display_data"
    },
    {
     "data": {
      "text/html": [
       "<pre style=\"white-space:pre;overflow-x:auto;line-height:normal;font-family:Menlo,'DejaVu Sans Mono',consolas,'Courier New',monospace\">=========================                                                                    \n",
       "</pre>\n"
      ],
      "text/plain": [
       "=========================                                                                    \n"
      ]
     },
     "metadata": {},
     "output_type": "display_data"
    },
    {
     "data": {
      "text/html": [
       "<pre style=\"white-space:pre;overflow-x:auto;line-height:normal;font-family:Menlo,'DejaVu Sans Mono',consolas,'Courier New',monospace\"><span style=\"font-weight: bold\">Original Test to paraphrase</span>: However I discovered that Merry can't assist with the grand plan\n",
       "until rodents in his house are dealt with so I'm inclined to believe that Pippin will instead\n",
       "try to achieve ensure that the rodents don't bother Merry again, ignoring what's truly       \n",
       "important.                                                                                   \n",
       "</pre>\n"
      ],
      "text/plain": [
       "\u001B[1mOriginal Test to paraphrase\u001B[0m: However I discovered that Merry can't assist with the grand plan\n",
       "until rodents in his house are dealt with so I'm inclined to believe that Pippin will instead\n",
       "try to achieve ensure that the rodents don't bother Merry again, ignoring what's truly       \n",
       "important.                                                                                   \n"
      ]
     },
     "metadata": {},
     "output_type": "display_data"
    },
    {
     "data": {
      "text/html": [
       "<pre style=\"white-space:pre;overflow-x:auto;line-height:normal;font-family:Menlo,'DejaVu Sans Mono',consolas,'Courier New',monospace\"><span style=\"font-weight: bold\">OpenAI</span>: I found out that Merry can't help with Pippin's prank until his rodent problem is    \n",
       "resolved. It looks like Pippin will be tending to that instead of making amends with the ones\n",
       "he offended, like he should.                                                                 \n",
       "</pre>\n"
      ],
      "text/plain": [
       "\u001B[1mOpenAI\u001B[0m: I found out that Merry can't help with Pippin's prank until his rodent problem is    \n",
       "resolved. It looks like Pippin will be tending to that instead of making amends with the ones\n",
       "he offended, like he should.                                                                 \n"
      ]
     },
     "metadata": {},
     "output_type": "display_data"
    },
    {
     "data": {
      "text/html": [
       "<pre style=\"white-space:pre;overflow-x:auto;line-height:normal;font-family:Menlo,'DejaVu Sans Mono',consolas,'Courier New',monospace\"><span style=\"font-weight: bold\">NVIDIA</span>: I discovered that Merry will not participate in our mischief, and he'll remain       \n",
       "focused on resolving the problem of the vermin that infest his home before the Harvest       \n",
       "Festival.                                                                                    \n",
       "</pre>\n"
      ],
      "text/plain": [
       "\u001B[1mNVIDIA\u001B[0m: I discovered that Merry will not participate in our mischief, and he'll remain       \n",
       "focused on resolving the problem of the vermin that infest his home before the Harvest       \n",
       "Festival.                                                                                    \n"
      ]
     },
     "metadata": {},
     "output_type": "display_data"
    },
    {
     "data": {
      "text/html": [
       "<pre style=\"white-space:pre;overflow-x:auto;line-height:normal;font-family:Menlo,'DejaVu Sans Mono',consolas,'Courier New',monospace\">=========================                                                                    \n",
       "</pre>\n"
      ],
      "text/plain": [
       "=========================                                                                    \n"
      ]
     },
     "metadata": {},
     "output_type": "display_data"
    },
    {
     "data": {
      "text/html": [
       "<pre style=\"white-space:pre;overflow-x:auto;line-height:normal;font-family:Menlo,'DejaVu Sans Mono',consolas,'Courier New',monospace\"><span style=\"font-weight: bold\">Original Test to paraphrase</span>: So if you could please protect the council to restore my good   \n",
       "name that would be a great help.                                                             \n",
       "</pre>\n"
      ],
      "text/plain": [
       "\u001B[1mOriginal Test to paraphrase\u001B[0m: So if you could please protect the council to restore my good   \n",
       "name that would be a great help.                                                             \n"
      ]
     },
     "metadata": {},
     "output_type": "display_data"
    },
    {
     "data": {
      "text/html": [
       "<pre style=\"white-space:pre;overflow-x:auto;line-height:normal;font-family:Menlo,'DejaVu Sans Mono',consolas,'Courier New',monospace\"><span style=\"font-weight: bold\">OpenAI</span>: Please protect the Council to restore my good name.                                  \n",
       "</pre>\n"
      ],
      "text/plain": [
       "\u001B[1mOpenAI\u001B[0m: Please protect the Council to restore my good name.                                  \n"
      ]
     },
     "metadata": {},
     "output_type": "display_data"
    },
    {
     "data": {
      "text/html": [
       "<pre style=\"white-space:pre;overflow-x:auto;line-height:normal;font-family:Menlo,'DejaVu Sans Mono',consolas,'Courier New',monospace\"><span style=\"font-weight: bold\">NVIDIA</span>: Please help me clean up my name and buy back my reputation with the council.         \n",
       "</pre>\n"
      ],
      "text/plain": [
       "\u001B[1mNVIDIA\u001B[0m: Please help me clean up my name and buy back my reputation with the council.         \n"
      ]
     },
     "metadata": {},
     "output_type": "display_data"
    },
    {
     "data": {
      "text/html": [
       "<pre style=\"white-space:pre;overflow-x:auto;line-height:normal;font-family:Menlo,'DejaVu Sans Mono',consolas,'Courier New',monospace\">=========================                                                                    \n",
       "</pre>\n"
      ],
      "text/plain": [
       "=========================                                                                    \n"
      ]
     },
     "metadata": {},
     "output_type": "display_data"
    }
   ],
   "source": [
    "for _a, _ap, _ai in zip(answers, actual_prompts, openai_answers):\n",
    "    console.print(Markdown(\"**Original Test to paraphrase**: %s\" % _ap))\n",
    "    console.print(Markdown(\"**OpenAI**: %s\" % _ai))\n",
    "    console.print(Markdown(\"**NVIDIA**: %s\" % _a))\n",
    "    console.print(Markdown(\"=========================\\n\"))\n",
    "    "
   ]
  }
 ],
 "metadata": {
  "kernelspec": {
   "display_name": "Python 3",
   "language": "python",
   "name": "python3"
  },
  "language_info": {
   "codemirror_mode": {
    "name": "ipython",
    "version": 3
   },
   "file_extension": ".py",
   "mimetype": "text/x-python",
   "name": "python",
   "nbconvert_exporter": "python",
   "pygments_lexer": "ipython3",
   "version": "3.8.8"
  }
 },
 "nbformat": 4,
 "nbformat_minor": 1
}