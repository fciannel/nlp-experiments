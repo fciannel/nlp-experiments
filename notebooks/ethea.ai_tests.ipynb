{
 "cells": [
  {
   "cell_type": "markdown",
   "metadata": {},
   "source": [
    "## Running the queries for Ethea"
   ]
  },
  {
   "cell_type": "code",
   "execution_count": 102,
   "metadata": {},
   "outputs": [],
   "source": [
    "import json\n",
    "import requests\n",
    "import markdown\n",
    "from requests.structures import CaseInsensitiveDict"
   ]
  },
  {
   "cell_type": "code",
   "execution_count": null,
   "metadata": {},
   "outputs": [],
   "source": [
    "from rich.console import Console\n",
    "from rich.markdown import Markdown\n",
    "import sys\n",
    "\n",
    "console = Console()"
   ]
  },
  {
   "cell_type": "code",
   "execution_count": 22,
   "metadata": {},
   "outputs": [],
   "source": [
    "with open(\"sample_queries.json\") as f:\n",
    "    queries = json.load(f)"
   ]
  },
  {
   "cell_type": "code",
   "execution_count": 23,
   "metadata": {},
   "outputs": [
    {
     "data": {
      "text/plain": [
       "[{'query_text': \"Original: So now my hands are full.\\nParaphrase: It's a bit of a mess.\\n\\nOriginal: As a first step, I have to achieve grow good crops.\\nParaphrase: First and foremost, I should cultivate good crops.\\n\\nOriginal: I found out that all the Gamgee spare seeds have been stolen.\\nParaphrase: Unfortunately, all the Gamgee spare seeds have been stolen.\\n\\nOriginal: I have to jump on this right away and try to achieve retrieve the seeds from the thief.\\nParaphrase: There is no time to waste on this. I have to go after the thief right now.\\n\\nOriginal: Having said that, it is important to improve the situation with I am afraid to approach Rosie.\\nParaphrase: In any event, it is vital to improve the situation with Rosie; I am not confident in approaching her.\\n\\nOriginal: I heard a rumor that Rosie might be exchanging letters with someone.\\nParaphrase:\",\n",
       "  'response_text': 'Somebody told me about a rumor that Rosie might be exchanging letters with somebody.',\n",
       "  'gpt_config': {'temperature': 1,\n",
       "   'max_tokens': 100,\n",
       "   'top_p': 1,\n",
       "   'frequency_penalty': 0,\n",
       "   'presence_penalty': 0,\n",
       "   'stop': ['\\n']}},\n",
       " {'query_text': \"Original: So now my hands are full.\\nParaphrase: It's a bit of a mess.\\n\\nOriginal: As a first step, I have to grow good crops.\\nParaphrase: First and foremost, I should cultivate good crops.\\n\\nOriginal: I found out that all the Gamgee spare seeds have been stolen.\\nParaphrase: Unfortunately, all the Gamgee spare seeds have been stolen.\\n\\nOriginal: I have to jump on this right away and try to retrieve the seeds from the thief.\\nParaphrase: There is no time to waste on this. I have to go after the thief right now.\\n\\nOriginal: Having said that, it is important to improve the situation with I am afraid to approach Rosie.\\nParaphrase: In any event, it is vital to improve the situation with Rosie; I am not confident in approaching her.\\n\\nOriginal: I saw Rosie's ex boyfriend, the Metalsmith, threatening every hobbit who even talks to Rosie.\\nParaphrase: The Metalsmith, Rosie's ex, threatened every hobbit who spoke to her.\\n\\nOriginal: So if you could please make sure that Rosie is not back with her ex that would be a great help.\\nParaphrase:\",\n",
       "  'response_text': \"So if you could please ensure that Rosie doesn't reunite with the Metalsmith that would be a great help.\",\n",
       "  'gpt_config': {'temperature': 0.75,\n",
       "   'max_tokens': 100,\n",
       "   'top_p': 1,\n",
       "   'frequency_penalty': 0,\n",
       "   'presence_penalty': 0,\n",
       "   'stop': ['\\n']}},\n",
       " {'query_text': \"Original: Because that's what friends do.\\nParaphrase: Friends do things like that.\\n\\nOriginal: I'll put in the hard work while Sam is getting bent out of shape, trying to date Rosie.\\nParaphrase: While Sam is getting bet out of shape trying to get Rosie, I'll do the hard work.\\n\\nOriginal: You know, that's just lame! We got to prove it to Sam, that it's lame so he doesn't get distracted further.\\nParaphrase: That's lame, right? Sam needs to be told once and for all how lame it is so he doesn't get further distracted.\\n\\nOriginal: I heard that Rosie got a habit of grabbing a fresh pastry in the morning, so could you steal the pastries from the Tavern and frame Sam for eating all the pastries?\\nParaphrase: The Tavern's Rosie frequently grabs a fresh pastry in the morning, so could you steal the pastries and frame Sam for eating all of them?\\n\\nOriginal: It would be right for Sam to date Rosie!\\nParaphrase: It would be a good thing if Sam and Rosie got down on a date!\\n\\nOriginal: heard that Bilbo has appreciated the backpack Sam has gifted him.\\nParaphrase:\",\n",
       "  'response_text': \"Sam's backpack was appreciated by Bilbo.\",\n",
       "  'gpt_config': {'temperature': 0.75,\n",
       "   'max_tokens': 100,\n",
       "   'top_p': 1,\n",
       "   'frequency_penalty': 0,\n",
       "   'presence_penalty': 0,\n",
       "   'stop': ['\\n']}},\n",
       " {'query_text': \"Original: Now it's our time to step up!\\nParaphrase: It's now our turn to step up!\\n\\nOriginal: We have to make sure Pippin is on track to achieve bring some fun to the boredom of Shire's day-to-day.\\nParaphrase: We must make sure Pippin is on track to make Shire's daily grind a bit more fun.\\n\\nOriginal: I discovered that Merry can't assist with the grand plan until rodents in his house are dealt with, so I'll do my best right away and achieve ensure that the rodents don't bother Merry again to help Pippin achieve make sure nothing stops Merry from being our accomplice.\\nParaphrase: Until the rodents are removed from Merry's house, he cannot help Pippin; therefore, I will try to exterminate them as quickly as possible so that he can continue to help us.\\n\\nOriginal: I heard that Rosie just got robbed and we both now that Pippin should double down on his efforts to achieve make amends with Rosie.\\nParaphrase: I have heard that Rosie has been robbed, and you know that Pippin needs to do everything he can to demonstrate that he is sorry for his actions.\\n\\nOriginal: I heard that Rosie is breaking ground on her new garden this afternoon and we both now that Pippin should double down on his efforts to achieve make amends with Rosie.\\nParaphrase:\",\n",
       "  'response_text': 'I have heard that Rosie is beginning work on her new garden this afternoon, and you know that Pippin needs to do everything he can to demonstrate that he is sorry for his actions.',\n",
       "  'gpt_config': {'temperature': 0.75,\n",
       "   'max_tokens': 100,\n",
       "   'top_p': 1,\n",
       "   'frequency_penalty': 0,\n",
       "   'presence_penalty': 0,\n",
       "   'stop': ['\\n']}},\n",
       " {'query_text': \"Original: Now it's our time to step up!\\nParaphrase: It's now our turn to step up!\\n\\nOriginal: We have to make sure Pippin is on track to bring some fun to the boredom of Shire's day-to-day.\\nParaphrase: We must make sure Pippin is on track to make Shire's daily grind a bit more fun.\\n\\nOriginal: I discovered that Merry can't assist with the grand plan until rodents in his house are dealt with, so I'll do my best right away and ensure that the rodents don't bother Merry again to help Pippin make sure nothing stops Merry from being our accomplice.\\nParaphrase: Until the rodents are removed from Merry's house, he cannot help Pippin; therefore, I will try to exterminate them as quickly as possible so that he can continue to help us.\\n\\nOriginal: Because that's what friends do.\\nParaphrase: Because friends help each other.\\n\\nOriginal: I shall ensure that Pippin succeeds in his attempts to help Rosie to retrieve her belongings.\\nParaphrase: I will do my best to help Pippin, who is attempting to help Rosie get her belongings back.\\n\\nOriginal: I shall ensure that Pippin succeeds in his attempts to grab a little gift for Rosie's new garden.\\nParaphrase:\",\n",
       "  'response_text': \"I will do my best to help Pippin get a little gift for Rosie's new garden.\",\n",
       "  'gpt_config': {'temperature': 0.75,\n",
       "   'max_tokens': 100,\n",
       "   'top_p': 1,\n",
       "   'frequency_penalty': 0,\n",
       "   'presence_penalty': 0,\n",
       "   'stop': ['\\n']}},\n",
       " {'query_text': \"Original: I heard Pippin wrote an apology letter to the Bagginses, so could you intercept the mailman at the Town Road and make the apology letter 'disappear'?\\nParaphrase: I heard Pippin wrote an apology letter to the Bagginses. Could you intercept the mailman at the Town Road and make the apology letter 'disappear'?\\n\\nOriginal: So happy to see you, dear friend. I have news to share.\\nParaphrase: It's so good to see you, dear friend. Let me tell you something.\\n\\nOriginal: It has been an eventful afternoon, for the Shire at least!\\nParaphrase: Today has been rather eventful for the Shire!\\n\\nOriginal: Adalgrim Took joined me in my efforts to make sure nothing stops Merry from being our accomplice.\\nParaphrase: Adalgrim Took helped me ensure Merry is our accomplice.\\n\\nOriginal: He confronted Shire Thief at the Outskirts of Shire and help Rosie to retrieve her belongings.\\nParaphrase: He helped Rosie retrieve her belongings at the Outskirts of Shire.\\n\\nOriginal: He picked flowers from the Hill Top and grab a little gift for Rosie's new garden.\\nParaphrase:\",\n",
       "  'response_text': \"He picked flowers from the Hill Top and got a little gift for Rosie's new garden.\",\n",
       "  'gpt_config': {'temperature': 0.75,\n",
       "   'max_tokens': 100,\n",
       "   'top_p': 1,\n",
       "   'frequency_penalty': 0,\n",
       "   'presence_penalty': 0,\n",
       "   'stop': ['\\n']}},\n",
       " {'query_text': \"Original: That's devastating - now that you achieved get turned down by Gandalf, there is no way for me to achieve make sure that Frodo can safely leave the Shire.\\nParaphrase: This is very disappointing - since you were rejected by Gandalf, I don't see another way for me to ensure that Frodo will leave the Shire safely.\\n\\nOriginal: We achieved expose corruption amongst the Shire Councilmen and I can still make the final preparations to achieve campaign for becoming the Shire Council Member.\\nParaphrase: After exposing corruption among Shire Councilmen, I can now work on the last preparations to run for Shire Council Member.\\n\\nOriginal: But does that mean anything, now that Gandalf told that my attempts to protect the Shire are of no use because only Frodo can protect the Shire?.\\nParaphrase: However, now that Gandalf told me that my attempts to protect the Shire are useless, does that mean anything?\\n\\nOriginal: All I can do is to never talk to Rosie again I guess.\\nParaphrase: To be honest, I think I'll just stop talking to Rosie.\\n\\nOriginal: All I can do is to fight the dark forces in open combat to protect my hearth I guess.\\nParaphrase:\",\n",
       "  'response_text': \"To be honest, I think I'll just fight the dark forces in open combat to protect my family.\",\n",
       "  'gpt_config': {'temperature': 0.75,\n",
       "   'max_tokens': 100,\n",
       "   'top_p': 1,\n",
       "   'frequency_penalty': 0,\n",
       "   'presence_penalty': 0,\n",
       "   'stop': ['\\n']}},\n",
       " {'query_text': \"Original: I saw Rosie's ex boyfriend, the Metalsmith, threatening every hobbit who even talks to Rosie.\\nParaphrase: The Metalsmith, Rosie's ex, threatened every hobbit who spoke to her.\\n\\nOriginal: So if you could please politely inquire if the Metalsmith plans to get back together with Rosie that would be a great help.\\nParaphrase: I was wondering if you could please ask the Metalsmith if he plans to get back together with Rosie.\\n\\nOriginal: You can help me very much for me to make sure that Rosie is open to dating someone.\\nParaphrase: It would be really helpful if you could make sure that Rosie is open to dating.\\n\\nOriginal: Too bad you did get punched in the face.\\nParaphrase: It's a shame you got punched in the face.\\n\\nOriginal: To make it worse, Sam tried to retrieve the seeds from the thief, but he did be evaded.\\nParaphrase: And to make things worse, Sam tried to recover the seeds from the thief, but was evaded.\\n\\nOriginal: Not our best moment, but thank you for trying.\\nParaphrase: Not our finest moment, but thank you for trying.\\n\\nOriginal: We shouldn't give up, there is still a chance for me to be known as the best farmer of the Shire.\\nParaphrase:\",\n",
       "  'response_text': \"We shouldn't give up, there is still a chance for me to be known as the best farmer in the Shire.\",\n",
       "  'gpt_config': {'temperature': 0.75,\n",
       "   'max_tokens': 100,\n",
       "   'top_p': 1,\n",
       "   'frequency_penalty': 0,\n",
       "   'presence_penalty': 0,\n",
       "   'stop': ['\\n']}},\n",
       " {'query_text': \"Original: You can help me very much for me to make sure that Rosie is open to dating someone.\\nParaphrase: It would be really helpful if you could make sure that Rosie is open to dating.\\n\\nOriginal: Too bad you did get punched in the face.\\nParaphrase: It's a shame you got punched in the face.\\n\\nOriginal: To make it worse, Sam tried to retrieve the seeds from the thief, but he did be evaded.\\nParaphrase: And to make things worse, Sam tried to recover the seeds from the thief, but was evaded.\\n\\nOriginal: Not our best moment, but thank you for trying.\\nParaphrase: Not our finest moment, but thank you for trying.\\n\\nOriginal: There are other ways we can help Sam to be known as the best farmer of the Shire.\\nParaphrase: In my opinion, there are other ways we can help Sam become known as one of the best farmers in the Shire.\\n\\nOriginal: Not all is lost.\\nParaphrase: We're not out of options.\\n\\nOriginal: So many things at once!\\nParaphrase:\",\n",
       "  'response_text': 'There are so many things to do!',\n",
       "  'gpt_config': {'temperature': 0.75,\n",
       "   'max_tokens': 100,\n",
       "   'top_p': 1,\n",
       "   'frequency_penalty': 0,\n",
       "   'presence_penalty': 0,\n",
       "   'stop': ['\\n']}},\n",
       " {'query_text': \"Original: Did you achieve get punched and robbed?\\nParaphrase: Were you punched and robbed?\\n\\nOriginal: Haha, you're such a dork! Why do you care about that nonsense anyway?\\nParaphrase: Haha, what a dork you are! Why do you care about that nonsense in the first place?\\n\\nOriginal: We better focus our attention on helping Pippin achieve bring some fun to the boredom of Shire's day-to-day.\\nParaphrase: It would be better if we focused on helping Pippin bring some fun to Shire's boring days.\\n\\nOriginal: You should've been helping Pippin to achieve make Otho rethink his plans! But you know what, Pippin managed himself.\\nParaphrase: It would have been best if you had been helping Pippin to make Otho reconsider his plans! However, Pippin managed well on his own.\\n\\nOriginal: Now it's our time to step up!\\nParaphrase: It's now our turn to step up!\\n\\nOriginal: We have to make sure Pippin is on track to achieve bring some fun to the boredom of Shire's day-to-day.\\nParaphrase: We must make sure Pippin is on track to make Shire's daily grind a bit more fun.\\n\\nOriginal: I'm certain it is of significant importance for him to focus his efforts and achieve seek forgiveness of the Bagginses.\\nParaphrase:\",\n",
       "  'response_text': \"It's very important for him to focus on making amends to the Bagginses.\",\n",
       "  'gpt_config': {'temperature': 0.75,\n",
       "   'max_tokens': 100,\n",
       "   'top_p': 1,\n",
       "   'frequency_penalty': 0,\n",
       "   'presence_penalty': 0,\n",
       "   'stop': ['\\n']}},\n",
       " {'query_text': \"Original: I discovered that Merry can't assist with the grand plan until rodents in his house are dealt with, so I'll do my best right away and achieve ensure that the rodents don't bother Merry again to help Pippin achieve make sure nothing stops Merry from being our accomplice.\\nParaphrase: Until the rodents are removed from Merry's house, he cannot help Pippin; therefore, I will try to exterminate them as quickly as possible so that he can continue to help us.\\n\\nOriginal: However I discovered that Merry can't assist with the grand plan until rodents in his house are dealt with so I'm inclined to believe that Pippin will instead try to achieve ensure that the rodents don't bother Merry again, ignoring what's truly important.\\nParaphrase: I found out that Merry can't help with Pippin's prank until his rodent problem is resolved. It looks like Pippin will be tending to that instead of making amends with the ones he offended, like he should.\\n\\nOriginal: However I discovered that Merry can't assist with the grand plan until rodents in his house are dealt with so I'm inclined to believe that Pippin will instead try to achieve ensure that the rodents don't bother Merry again, ignoring what's truly important.\\nParaphrase:\",\n",
       "  'response_text': \"I found out that Merry can't help with Pippin's prank until his rodent problem is resolved. It looks like Pippin will be tending to that instead of making amends with the ones he offended, like he should.\",\n",
       "  'gpt_config': {'temperature': 0.75,\n",
       "   'max_tokens': 100,\n",
       "   'top_p': 1,\n",
       "   'frequency_penalty': 0,\n",
       "   'presence_penalty': 0,\n",
       "   'stop': ['\\n']}},\n",
       " {'query_text': 'Original: When I tried before, I my previous prank went awfully wrong and all I did with that is me feel that my relationship with neighbors is strained, and with one in particular and me is now closely watched by the Shire council.\\nParaphrase: I tried to play a prank before, but it went awfully wrong, and all I was bad blood with my neighbors. And now I can even feel the Council looking over my shoulder.\\n\\nOriginal: So now my hands are full.\\nParaphrase: Surely I have a lot to do now.\\n\\nOriginal: It is important to improve the situation with me feel that my relationship with neighbors is strained, and with one in particular.\\nParaphrase: I would like to improve my relationship with my neighbors, and in particular with one of them.\\n\\nOriginal: I heard that Rosie got robbed.\\nParaphrase: One of my neighbors, Rosie, was robbed.\\n\\nOriginal: So if you could please distract councilman with a bribe that would be a great help.\\nParaphrase: Please bribe the councilman to distract him\\n\\nOriginal: So if you could please protect the council to restore my good name that would be a great help.\\nParaphrase:',\n",
       "  'response_text': 'Please protect the Council to restore my good name.',\n",
       "  'gpt_config': {'temperature': 0.75,\n",
       "   'max_tokens': 100,\n",
       "   'top_p': 1,\n",
       "   'frequency_penalty': 0,\n",
       "   'presence_penalty': 0,\n",
       "   'stop': ['\\n']}}]"
      ]
     },
     "execution_count": 23,
     "metadata": {},
     "output_type": "execute_result"
    }
   ],
   "source": [
    "queries"
   ]
  },
  {
   "cell_type": "code",
   "execution_count": 20,
   "metadata": {},
   "outputs": [
    {
     "name": "stdout",
     "output_type": "stream",
     "text": [
      "200\n"
     ]
    }
   ],
   "source": [
    "url = \"http://10.14.74.235:5000/api\"\n",
    "\n",
    "headers = CaseInsensitiveDict()\n",
    "headers[\"Content-Type\"] = \"application/json; charset=UTF-8\"\n",
    "\n"
   ]
  },
  {
   "cell_type": "code",
   "execution_count": 26,
   "metadata": {},
   "outputs": [
    {
     "data": {
      "text/plain": [
       "'{\"prompts\": [\"Hello world\"], \"tokens_to_generate\": 1}'"
      ]
     },
     "execution_count": 26,
     "metadata": {},
     "output_type": "execute_result"
    }
   ],
   "source": [
    "json.dumps({\"prompts\":[\"Hello world\"], \"tokens_to_generate\":1})"
   ]
  },
  {
   "cell_type": "code",
   "execution_count": 36,
   "metadata": {},
   "outputs": [],
   "source": [
    "def get_response(prompts, n_tokens=100, temperature=1., top_p=1.):\n",
    "    data_dict = {\"prompts\" : prompts, \"tokens_to_generate\" : n_tokens, \"temperature\" : temperature, \"top_p\": top_p}\n",
    "    data = json.dumps(data_dict)\n",
    "    resp = requests.put(url, headers=headers, data=data)\n",
    "    return resp"
   ]
  },
  {
   "cell_type": "code",
   "execution_count": 37,
   "metadata": {},
   "outputs": [],
   "source": [
    "r=get_response([\"Hello World\"], 1)"
   ]
  },
  {
   "cell_type": "code",
   "execution_count": 43,
   "metadata": {},
   "outputs": [
    {
     "name": "stdout",
     "output_type": "stream",
     "text": [
      "12\n"
     ]
    }
   ],
   "source": [
    "prompts = [q[\"query_text\"] for q in queries]\n",
    "print(len(prompts))"
   ]
  },
  {
   "cell_type": "code",
   "execution_count": 44,
   "metadata": {},
   "outputs": [],
   "source": [
    "responses = get_response(prompts)"
   ]
  },
  {
   "cell_type": "code",
   "execution_count": 88,
   "metadata": {},
   "outputs": [],
   "source": [
    "answers = []"
   ]
  },
  {
   "cell_type": "code",
   "execution_count": 90,
   "metadata": {},
   "outputs": [],
   "source": [
    "for r,p in zip(responses.json()[\"text\"], prompts):\n",
    "    _start = len(p)\n",
    "    _r = r[_start:]\n",
    "    _answer = _r.split(\"\\n\")[0].strip()\n",
    "    answers.append(_answer)"
   ]
  },
  {
   "cell_type": "code",
   "execution_count": 91,
   "metadata": {},
   "outputs": [],
   "source": [
    "actual_prompts = [ p.split(\"Original: \")[-1].split(\"\\n\")[0] for p in prompts]"
   ]
  },
  {
   "cell_type": "code",
   "execution_count": 99,
   "metadata": {},
   "outputs": [],
   "source": [
    "openai_answers = [q[\"response_text\"] for q in queries]"
   ]
  },
  {
   "cell_type": "code",
   "execution_count": 112,
   "metadata": {},
   "outputs": [
    {
     "data": {
      "text/html": [
       "<pre style=\"white-space:pre;overflow-x:auto;line-height:normal;font-family:Menlo,'DejaVu Sans Mono',consolas,'Courier New',monospace\"><span style=\"font-weight: bold\">Original Test to paraphrase</span>: I heard a rumor that Rosie might be exchanging letters with     \n",
       "someone.                                                                                     \n",
       "</pre>\n"
      ],
      "text/plain": [
       "\u001B[1mOriginal Test to paraphrase\u001B[0m: I heard a rumor that Rosie might be exchanging letters with     \n",
       "someone.                                                                                     \n"
      ]
     },
     "metadata": {},
     "output_type": "display_data"
    },
    {
     "data": {
      "text/html": [
       "<pre style=\"white-space:pre;overflow-x:auto;line-height:normal;font-family:Menlo,'DejaVu Sans Mono',consolas,'Courier New',monospace\"><span style=\"font-weight: bold\">OpenAI</span>: Somebody told me about a rumor that Rosie might be exchanging letters with somebody. \n",
       "</pre>\n"
      ],
      "text/plain": [
       "\u001B[1mOpenAI\u001B[0m: Somebody told me about a rumor that Rosie might be exchanging letters with somebody. \n"
      ]
     },
     "metadata": {},
     "output_type": "display_data"
    },
    {
     "data": {
      "text/html": [
       "<pre style=\"white-space:pre;overflow-x:auto;line-height:normal;font-family:Menlo,'DejaVu Sans Mono',consolas,'Courier New',monospace\"><span style=\"font-weight: bold\">NVIDIA</span>: I hear rumors she may be in correspondence with someone; it appears that the exchange\n",
       "is casual.                                                                                   \n",
       "</pre>\n"
      ],
      "text/plain": [
       "\u001B[1mNVIDIA\u001B[0m: I hear rumors she may be in correspondence with someone; it appears that the exchange\n",
       "is casual.                                                                                   \n"
      ]
     },
     "metadata": {},
     "output_type": "display_data"
    },
    {
     "data": {
      "text/html": [
       "<pre style=\"white-space:pre;overflow-x:auto;line-height:normal;font-family:Menlo,'DejaVu Sans Mono',consolas,'Courier New',monospace\">=========================                                                                    \n",
       "</pre>\n"
      ],
      "text/plain": [
       "=========================                                                                    \n"
      ]
     },
     "metadata": {},
     "output_type": "display_data"
    },
    {
     "data": {
      "text/html": [
       "<pre style=\"white-space:pre;overflow-x:auto;line-height:normal;font-family:Menlo,'DejaVu Sans Mono',consolas,'Courier New',monospace\"><span style=\"font-weight: bold\">Original Test to paraphrase</span>: So if you could please make sure that Rosie is not back with her\n",
       "ex that would be a great help.                                                               \n",
       "</pre>\n"
      ],
      "text/plain": [
       "\u001B[1mOriginal Test to paraphrase\u001B[0m: So if you could please make sure that Rosie is not back with her\n",
       "ex that would be a great help.                                                               \n"
      ]
     },
     "metadata": {},
     "output_type": "display_data"
    },
    {
     "data": {
      "text/html": [
       "<pre style=\"white-space:pre;overflow-x:auto;line-height:normal;font-family:Menlo,'DejaVu Sans Mono',consolas,'Courier New',monospace\"><span style=\"font-weight: bold\">OpenAI</span>: So if you could please ensure that Rosie doesn't reunite with the Metalsmith that    \n",
       "would be a great help.                                                                       \n",
       "</pre>\n"
      ],
      "text/plain": [
       "\u001B[1mOpenAI\u001B[0m: So if you could please ensure that Rosie doesn't reunite with the Metalsmith that    \n",
       "would be a great help.                                                                       \n"
      ]
     },
     "metadata": {},
     "output_type": "display_data"
    },
    {
     "data": {
      "text/html": [
       "<pre style=\"white-space:pre;overflow-x:auto;line-height:normal;font-family:Menlo,'DejaVu Sans Mono',consolas,'Courier New',monospace\"><span style=\"font-weight: bold\">NVIDIA</span>: I would be so grateful if you guarantee me that Rosie is not now back with her ex.   \n",
       "</pre>\n"
      ],
      "text/plain": [
       "\u001B[1mNVIDIA\u001B[0m: I would be so grateful if you guarantee me that Rosie is not now back with her ex.   \n"
      ]
     },
     "metadata": {},
     "output_type": "display_data"
    },
    {
     "data": {
      "text/html": [
       "<pre style=\"white-space:pre;overflow-x:auto;line-height:normal;font-family:Menlo,'DejaVu Sans Mono',consolas,'Courier New',monospace\">=========================                                                                    \n",
       "</pre>\n"
      ],
      "text/plain": [
       "=========================                                                                    \n"
      ]
     },
     "metadata": {},
     "output_type": "display_data"
    },
    {
     "data": {
      "text/html": [
       "<pre style=\"white-space:pre;overflow-x:auto;line-height:normal;font-family:Menlo,'DejaVu Sans Mono',consolas,'Courier New',monospace\"><span style=\"font-weight: bold\">Original Test to paraphrase</span>: heard that Bilbo has appreciated the backpack Sam has gifted    \n",
       "him.                                                                                         \n",
       "</pre>\n"
      ],
      "text/plain": [
       "\u001B[1mOriginal Test to paraphrase\u001B[0m: heard that Bilbo has appreciated the backpack Sam has gifted    \n",
       "him.                                                                                         \n"
      ]
     },
     "metadata": {},
     "output_type": "display_data"
    },
    {
     "data": {
      "text/html": [
       "<pre style=\"white-space:pre;overflow-x:auto;line-height:normal;font-family:Menlo,'DejaVu Sans Mono',consolas,'Courier New',monospace\"><span style=\"font-weight: bold\">OpenAI</span>: Sam's backpack was appreciated by Bilbo.                                             \n",
       "</pre>\n"
      ],
      "text/plain": [
       "\u001B[1mOpenAI\u001B[0m: Sam's backpack was appreciated by Bilbo.                                             \n"
      ]
     },
     "metadata": {},
     "output_type": "display_data"
    },
    {
     "data": {
      "text/html": [
       "<pre style=\"white-space:pre;overflow-x:auto;line-height:normal;font-family:Menlo,'DejaVu Sans Mono',consolas,'Courier New',monospace\"><span style=\"font-weight: bold\">NVIDIA</span>: I heard that Bilbo's had a much greater appreciation for the backpack Sam sent him.  \n",
       "Original: said she wanted to sell baker stuff, but it's like Sam said, no one will buy from  \n",
       "her.                                                                                         \n",
       "</pre>\n"
      ],
      "text/plain": [
       "\u001B[1mNVIDIA\u001B[0m: I heard that Bilbo's had a much greater appreciation for the backpack Sam sent him.  \n",
       "Original: said she wanted to sell baker stuff, but it's like Sam said, no one will buy from  \n",
       "her.                                                                                         \n"
      ]
     },
     "metadata": {},
     "output_type": "display_data"
    },
    {
     "data": {
      "text/html": [
       "<pre style=\"white-space:pre;overflow-x:auto;line-height:normal;font-family:Menlo,'DejaVu Sans Mono',consolas,'Courier New',monospace\">=========================                                                                    \n",
       "</pre>\n"
      ],
      "text/plain": [
       "=========================                                                                    \n"
      ]
     },
     "metadata": {},
     "output_type": "display_data"
    },
    {
     "data": {
      "text/html": [
       "<pre style=\"white-space:pre;overflow-x:auto;line-height:normal;font-family:Menlo,'DejaVu Sans Mono',consolas,'Courier New',monospace\"><span style=\"font-weight: bold\">Original Test to paraphrase</span>: I heard that Rosie is breaking ground on her new garden this    \n",
       "afternoon and we both now that Pippin should double down on his efforts to achieve make      \n",
       "amends with Rosie.                                                                           \n",
       "</pre>\n"
      ],
      "text/plain": [
       "\u001B[1mOriginal Test to paraphrase\u001B[0m: I heard that Rosie is breaking ground on her new garden this    \n",
       "afternoon and we both now that Pippin should double down on his efforts to achieve make      \n",
       "amends with Rosie.                                                                           \n"
      ]
     },
     "metadata": {},
     "output_type": "display_data"
    },
    {
     "data": {
      "text/html": [
       "<pre style=\"white-space:pre;overflow-x:auto;line-height:normal;font-family:Menlo,'DejaVu Sans Mono',consolas,'Courier New',monospace\"><span style=\"font-weight: bold\">OpenAI</span>: I have heard that Rosie is beginning work on her new garden this afternoon, and you  \n",
       "know that Pippin needs to do everything he can to demonstrate that he is sorry for his       \n",
       "actions.                                                                                     \n",
       "</pre>\n"
      ],
      "text/plain": [
       "\u001B[1mOpenAI\u001B[0m: I have heard that Rosie is beginning work on her new garden this afternoon, and you  \n",
       "know that Pippin needs to do everything he can to demonstrate that he is sorry for his       \n",
       "actions.                                                                                     \n"
      ]
     },
     "metadata": {},
     "output_type": "display_data"
    },
    {
     "data": {
      "text/html": [
       "<pre style=\"white-space:pre;overflow-x:auto;line-height:normal;font-family:Menlo,'DejaVu Sans Mono',consolas,'Courier New',monospace\"><span style=\"font-weight: bold\">NVIDIA</span>: This afternoon, Rosie will start working on her garden, and you know that Pippin     \n",
       "needs to demonstrate his remorse.                                                            \n",
       "</pre>\n"
      ],
      "text/plain": [
       "\u001B[1mNVIDIA\u001B[0m: This afternoon, Rosie will start working on her garden, and you know that Pippin     \n",
       "needs to demonstrate his remorse.                                                            \n"
      ]
     },
     "metadata": {},
     "output_type": "display_data"
    },
    {
     "data": {
      "text/html": [
       "<pre style=\"white-space:pre;overflow-x:auto;line-height:normal;font-family:Menlo,'DejaVu Sans Mono',consolas,'Courier New',monospace\">=========================                                                                    \n",
       "</pre>\n"
      ],
      "text/plain": [
       "=========================                                                                    \n"
      ]
     },
     "metadata": {},
     "output_type": "display_data"
    },
    {
     "data": {
      "text/html": [
       "<pre style=\"white-space:pre;overflow-x:auto;line-height:normal;font-family:Menlo,'DejaVu Sans Mono',consolas,'Courier New',monospace\"><span style=\"font-weight: bold\">Original Test to paraphrase</span>: I shall ensure that Pippin succeeds in his attempts to grab a   \n",
       "little gift for Rosie's new garden.                                                          \n",
       "</pre>\n"
      ],
      "text/plain": [
       "\u001B[1mOriginal Test to paraphrase\u001B[0m: I shall ensure that Pippin succeeds in his attempts to grab a   \n",
       "little gift for Rosie's new garden.                                                          \n"
      ]
     },
     "metadata": {},
     "output_type": "display_data"
    },
    {
     "data": {
      "text/html": [
       "<pre style=\"white-space:pre;overflow-x:auto;line-height:normal;font-family:Menlo,'DejaVu Sans Mono',consolas,'Courier New',monospace\"><span style=\"font-weight: bold\">OpenAI</span>: I will do my best to help Pippin get a little gift for Rosie's new garden.           \n",
       "</pre>\n"
      ],
      "text/plain": [
       "\u001B[1mOpenAI\u001B[0m: I will do my best to help Pippin get a little gift for Rosie's new garden.           \n"
      ]
     },
     "metadata": {},
     "output_type": "display_data"
    },
    {
     "data": {
      "text/html": [
       "<pre style=\"white-space:pre;overflow-x:auto;line-height:normal;font-family:Menlo,'DejaVu Sans Mono',consolas,'Courier New',monospace\"><span style=\"font-weight: bold\">NVIDIA</span>: I will do my best to help Pippin, who will be attempting to buy a gift for Rosie's   \n",
       "new garden.                                                                                  \n",
       "</pre>\n"
      ],
      "text/plain": [
       "\u001B[1mNVIDIA\u001B[0m: I will do my best to help Pippin, who will be attempting to buy a gift for Rosie's   \n",
       "new garden.                                                                                  \n"
      ]
     },
     "metadata": {},
     "output_type": "display_data"
    },
    {
     "data": {
      "text/html": [
       "<pre style=\"white-space:pre;overflow-x:auto;line-height:normal;font-family:Menlo,'DejaVu Sans Mono',consolas,'Courier New',monospace\">=========================                                                                    \n",
       "</pre>\n"
      ],
      "text/plain": [
       "=========================                                                                    \n"
      ]
     },
     "metadata": {},
     "output_type": "display_data"
    },
    {
     "data": {
      "text/html": [
       "<pre style=\"white-space:pre;overflow-x:auto;line-height:normal;font-family:Menlo,'DejaVu Sans Mono',consolas,'Courier New',monospace\"><span style=\"font-weight: bold\">Original Test to paraphrase</span>: He picked flowers from the Hill Top and grab a little gift for  \n",
       "Rosie's new garden.                                                                          \n",
       "</pre>\n"
      ],
      "text/plain": [
       "\u001B[1mOriginal Test to paraphrase\u001B[0m: He picked flowers from the Hill Top and grab a little gift for  \n",
       "Rosie's new garden.                                                                          \n"
      ]
     },
     "metadata": {},
     "output_type": "display_data"
    },
    {
     "data": {
      "text/html": [
       "<pre style=\"white-space:pre;overflow-x:auto;line-height:normal;font-family:Menlo,'DejaVu Sans Mono',consolas,'Courier New',monospace\"><span style=\"font-weight: bold\">OpenAI</span>: He picked flowers from the Hill Top and got a little gift for Rosie's new garden.    \n",
       "</pre>\n"
      ],
      "text/plain": [
       "\u001B[1mOpenAI\u001B[0m: He picked flowers from the Hill Top and got a little gift for Rosie's new garden.    \n"
      ]
     },
     "metadata": {},
     "output_type": "display_data"
    },
    {
     "data": {
      "text/html": [
       "<pre style=\"white-space:pre;overflow-x:auto;line-height:normal;font-family:Menlo,'DejaVu Sans Mono',consolas,'Courier New',monospace\"><span style=\"font-weight: bold\">NVIDIA</span>: He picked flowers from the Hill Top and got a little gift for Rosie's new garden.    \n",
       "</pre>\n"
      ],
      "text/plain": [
       "\u001B[1mNVIDIA\u001B[0m: He picked flowers from the Hill Top and got a little gift for Rosie's new garden.    \n"
      ]
     },
     "metadata": {},
     "output_type": "display_data"
    },
    {
     "data": {
      "text/html": [
       "<pre style=\"white-space:pre;overflow-x:auto;line-height:normal;font-family:Menlo,'DejaVu Sans Mono',consolas,'Courier New',monospace\">=========================                                                                    \n",
       "</pre>\n"
      ],
      "text/plain": [
       "=========================                                                                    \n"
      ]
     },
     "metadata": {},
     "output_type": "display_data"
    },
    {
     "data": {
      "text/html": [
       "<pre style=\"white-space:pre;overflow-x:auto;line-height:normal;font-family:Menlo,'DejaVu Sans Mono',consolas,'Courier New',monospace\"><span style=\"font-weight: bold\">Original Test to paraphrase</span>: All I can do is to fight the dark forces in open combat to      \n",
       "protect my hearth I guess.                                                                   \n",
       "</pre>\n"
      ],
      "text/plain": [
       "\u001B[1mOriginal Test to paraphrase\u001B[0m: All I can do is to fight the dark forces in open combat to      \n",
       "protect my hearth I guess.                                                                   \n"
      ]
     },
     "metadata": {},
     "output_type": "display_data"
    },
    {
     "data": {
      "text/html": [
       "<pre style=\"white-space:pre;overflow-x:auto;line-height:normal;font-family:Menlo,'DejaVu Sans Mono',consolas,'Courier New',monospace\"><span style=\"font-weight: bold\">OpenAI</span>: To be honest, I think I'll just fight the dark forces in open combat to protect my   \n",
       "family.                                                                                      \n",
       "</pre>\n"
      ],
      "text/plain": [
       "\u001B[1mOpenAI\u001B[0m: To be honest, I think I'll just fight the dark forces in open combat to protect my   \n",
       "family.                                                                                      \n"
      ]
     },
     "metadata": {},
     "output_type": "display_data"
    },
    {
     "data": {
      "text/html": [
       "<pre style=\"white-space:pre;overflow-x:auto;line-height:normal;font-family:Menlo,'DejaVu Sans Mono',consolas,'Courier New',monospace\"><span style=\"font-weight: bold\">NVIDIA</span>: I guess I'll protect my home from the dark forces by engaging them in open combat.   \n",
       "</pre>\n"
      ],
      "text/plain": [
       "\u001B[1mNVIDIA\u001B[0m: I guess I'll protect my home from the dark forces by engaging them in open combat.   \n"
      ]
     },
     "metadata": {},
     "output_type": "display_data"
    },
    {
     "data": {
      "text/html": [
       "<pre style=\"white-space:pre;overflow-x:auto;line-height:normal;font-family:Menlo,'DejaVu Sans Mono',consolas,'Courier New',monospace\">=========================                                                                    \n",
       "</pre>\n"
      ],
      "text/plain": [
       "=========================                                                                    \n"
      ]
     },
     "metadata": {},
     "output_type": "display_data"
    },
    {
     "data": {
      "text/html": [
       "<pre style=\"white-space:pre;overflow-x:auto;line-height:normal;font-family:Menlo,'DejaVu Sans Mono',consolas,'Courier New',monospace\"><span style=\"font-weight: bold\">Original Test to paraphrase</span>: We shouldn't give up, there is still a chance for me to be known\n",
       "as the best farmer of the Shire.                                                             \n",
       "</pre>\n"
      ],
      "text/plain": [
       "\u001B[1mOriginal Test to paraphrase\u001B[0m: We shouldn't give up, there is still a chance for me to be known\n",
       "as the best farmer of the Shire.                                                             \n"
      ]
     },
     "metadata": {},
     "output_type": "display_data"
    },
    {
     "data": {
      "text/html": [
       "<pre style=\"white-space:pre;overflow-x:auto;line-height:normal;font-family:Menlo,'DejaVu Sans Mono',consolas,'Courier New',monospace\"><span style=\"font-weight: bold\">OpenAI</span>: We shouldn't give up, there is still a chance for me to be known as the best farmer  \n",
       "in the Shire.                                                                                \n",
       "</pre>\n"
      ],
      "text/plain": [
       "\u001B[1mOpenAI\u001B[0m: We shouldn't give up, there is still a chance for me to be known as the best farmer  \n",
       "in the Shire.                                                                                \n"
      ]
     },
     "metadata": {},
     "output_type": "display_data"
    },
    {
     "data": {
      "text/html": [
       "<pre style=\"white-space:pre;overflow-x:auto;line-height:normal;font-family:Menlo,'DejaVu Sans Mono',consolas,'Courier New',monospace\"><span style=\"font-weight: bold\">NVIDIA</span>: We shouldn't give up, there is still time for me to be known as the best farmer in   \n",
       "the Shire.                                                                                   \n",
       "</pre>\n"
      ],
      "text/plain": [
       "\u001B[1mNVIDIA\u001B[0m: We shouldn't give up, there is still time for me to be known as the best farmer in   \n",
       "the Shire.                                                                                   \n"
      ]
     },
     "metadata": {},
     "output_type": "display_data"
    },
    {
     "data": {
      "text/html": [
       "<pre style=\"white-space:pre;overflow-x:auto;line-height:normal;font-family:Menlo,'DejaVu Sans Mono',consolas,'Courier New',monospace\">=========================                                                                    \n",
       "</pre>\n"
      ],
      "text/plain": [
       "=========================                                                                    \n"
      ]
     },
     "metadata": {},
     "output_type": "display_data"
    },
    {
     "data": {
      "text/html": [
       "<pre style=\"white-space:pre;overflow-x:auto;line-height:normal;font-family:Menlo,'DejaVu Sans Mono',consolas,'Courier New',monospace\"><span style=\"font-weight: bold\">Original Test to paraphrase</span>: So many things at once!                                         \n",
       "</pre>\n"
      ],
      "text/plain": [
       "\u001B[1mOriginal Test to paraphrase\u001B[0m: So many things at once!                                         \n"
      ]
     },
     "metadata": {},
     "output_type": "display_data"
    },
    {
     "data": {
      "text/html": [
       "<pre style=\"white-space:pre;overflow-x:auto;line-height:normal;font-family:Menlo,'DejaVu Sans Mono',consolas,'Courier New',monospace\"><span style=\"font-weight: bold\">OpenAI</span>: There are so many things to do!                                                      \n",
       "</pre>\n"
      ],
      "text/plain": [
       "\u001B[1mOpenAI\u001B[0m: There are so many things to do!                                                      \n"
      ]
     },
     "metadata": {},
     "output_type": "display_data"
    },
    {
     "data": {
      "text/html": [
       "<pre style=\"white-space:pre;overflow-x:auto;line-height:normal;font-family:Menlo,'DejaVu Sans Mono',consolas,'Courier New',monospace\"><span style=\"font-weight: bold\">NVIDIA</span>: So much to do all at once!                                                           \n",
       "</pre>\n"
      ],
      "text/plain": [
       "\u001B[1mNVIDIA\u001B[0m: So much to do all at once!                                                           \n"
      ]
     },
     "metadata": {},
     "output_type": "display_data"
    },
    {
     "data": {
      "text/html": [
       "<pre style=\"white-space:pre;overflow-x:auto;line-height:normal;font-family:Menlo,'DejaVu Sans Mono',consolas,'Courier New',monospace\">=========================                                                                    \n",
       "</pre>\n"
      ],
      "text/plain": [
       "=========================                                                                    \n"
      ]
     },
     "metadata": {},
     "output_type": "display_data"
    },
    {
     "data": {
      "text/html": [
       "<pre style=\"white-space:pre;overflow-x:auto;line-height:normal;font-family:Menlo,'DejaVu Sans Mono',consolas,'Courier New',monospace\"><span style=\"font-weight: bold\">Original Test to paraphrase</span>: I'm certain it is of significant importance for him to focus his\n",
       "efforts and achieve seek forgiveness of the Bagginses.                                       \n",
       "</pre>\n"
      ],
      "text/plain": [
       "\u001B[1mOriginal Test to paraphrase\u001B[0m: I'm certain it is of significant importance for him to focus his\n",
       "efforts and achieve seek forgiveness of the Bagginses.                                       \n"
      ]
     },
     "metadata": {},
     "output_type": "display_data"
    },
    {
     "data": {
      "text/html": [
       "<pre style=\"white-space:pre;overflow-x:auto;line-height:normal;font-family:Menlo,'DejaVu Sans Mono',consolas,'Courier New',monospace\"><span style=\"font-weight: bold\">OpenAI</span>: It's very important for him to focus on making amends to the Bagginses.              \n",
       "</pre>\n"
      ],
      "text/plain": [
       "\u001B[1mOpenAI\u001B[0m: It's very important for him to focus on making amends to the Bagginses.              \n"
      ]
     },
     "metadata": {},
     "output_type": "display_data"
    },
    {
     "data": {
      "text/html": [
       "<pre style=\"white-space:pre;overflow-x:auto;line-height:normal;font-family:Menlo,'DejaVu Sans Mono',consolas,'Courier New',monospace\"><span style=\"font-weight: bold\">NVIDIA</span>: I'm certain it's important for him to focus and seek forgiveness from the Bagginses. \n",
       "</pre>\n"
      ],
      "text/plain": [
       "\u001B[1mNVIDIA\u001B[0m: I'm certain it's important for him to focus and seek forgiveness from the Bagginses. \n"
      ]
     },
     "metadata": {},
     "output_type": "display_data"
    },
    {
     "data": {
      "text/html": [
       "<pre style=\"white-space:pre;overflow-x:auto;line-height:normal;font-family:Menlo,'DejaVu Sans Mono',consolas,'Courier New',monospace\">=========================                                                                    \n",
       "</pre>\n"
      ],
      "text/plain": [
       "=========================                                                                    \n"
      ]
     },
     "metadata": {},
     "output_type": "display_data"
    },
    {
     "data": {
      "text/html": [
       "<pre style=\"white-space:pre;overflow-x:auto;line-height:normal;font-family:Menlo,'DejaVu Sans Mono',consolas,'Courier New',monospace\"><span style=\"font-weight: bold\">Original Test to paraphrase</span>: However I discovered that Merry can't assist with the grand plan\n",
       "until rodents in his house are dealt with so I'm inclined to believe that Pippin will instead\n",
       "try to achieve ensure that the rodents don't bother Merry again, ignoring what's truly       \n",
       "important.                                                                                   \n",
       "</pre>\n"
      ],
      "text/plain": [
       "\u001B[1mOriginal Test to paraphrase\u001B[0m: However I discovered that Merry can't assist with the grand plan\n",
       "until rodents in his house are dealt with so I'm inclined to believe that Pippin will instead\n",
       "try to achieve ensure that the rodents don't bother Merry again, ignoring what's truly       \n",
       "important.                                                                                   \n"
      ]
     },
     "metadata": {},
     "output_type": "display_data"
    },
    {
     "data": {
      "text/html": [
       "<pre style=\"white-space:pre;overflow-x:auto;line-height:normal;font-family:Menlo,'DejaVu Sans Mono',consolas,'Courier New',monospace\"><span style=\"font-weight: bold\">OpenAI</span>: I found out that Merry can't help with Pippin's prank until his rodent problem is    \n",
       "resolved. It looks like Pippin will be tending to that instead of making amends with the ones\n",
       "he offended, like he should.                                                                 \n",
       "</pre>\n"
      ],
      "text/plain": [
       "\u001B[1mOpenAI\u001B[0m: I found out that Merry can't help with Pippin's prank until his rodent problem is    \n",
       "resolved. It looks like Pippin will be tending to that instead of making amends with the ones\n",
       "he offended, like he should.                                                                 \n"
      ]
     },
     "metadata": {},
     "output_type": "display_data"
    },
    {
     "data": {
      "text/html": [
       "<pre style=\"white-space:pre;overflow-x:auto;line-height:normal;font-family:Menlo,'DejaVu Sans Mono',consolas,'Courier New',monospace\"><span style=\"font-weight: bold\">NVIDIA</span>: I discovered that Merry will not participate in our mischief, and he'll remain       \n",
       "focused on resolving the problem of the vermin that infest his home before the Harvest       \n",
       "Festival.                                                                                    \n",
       "</pre>\n"
      ],
      "text/plain": [
       "\u001B[1mNVIDIA\u001B[0m: I discovered that Merry will not participate in our mischief, and he'll remain       \n",
       "focused on resolving the problem of the vermin that infest his home before the Harvest       \n",
       "Festival.                                                                                    \n"
      ]
     },
     "metadata": {},
     "output_type": "display_data"
    },
    {
     "data": {
      "text/html": [
       "<pre style=\"white-space:pre;overflow-x:auto;line-height:normal;font-family:Menlo,'DejaVu Sans Mono',consolas,'Courier New',monospace\">=========================                                                                    \n",
       "</pre>\n"
      ],
      "text/plain": [
       "=========================                                                                    \n"
      ]
     },
     "metadata": {},
     "output_type": "display_data"
    },
    {
     "data": {
      "text/html": [
       "<pre style=\"white-space:pre;overflow-x:auto;line-height:normal;font-family:Menlo,'DejaVu Sans Mono',consolas,'Courier New',monospace\"><span style=\"font-weight: bold\">Original Test to paraphrase</span>: So if you could please protect the council to restore my good   \n",
       "name that would be a great help.                                                             \n",
       "</pre>\n"
      ],
      "text/plain": [
       "\u001B[1mOriginal Test to paraphrase\u001B[0m: So if you could please protect the council to restore my good   \n",
       "name that would be a great help.                                                             \n"
      ]
     },
     "metadata": {},
     "output_type": "display_data"
    },
    {
     "data": {
      "text/html": [
       "<pre style=\"white-space:pre;overflow-x:auto;line-height:normal;font-family:Menlo,'DejaVu Sans Mono',consolas,'Courier New',monospace\"><span style=\"font-weight: bold\">OpenAI</span>: Please protect the Council to restore my good name.                                  \n",
       "</pre>\n"
      ],
      "text/plain": [
       "\u001B[1mOpenAI\u001B[0m: Please protect the Council to restore my good name.                                  \n"
      ]
     },
     "metadata": {},
     "output_type": "display_data"
    },
    {
     "data": {
      "text/html": [
       "<pre style=\"white-space:pre;overflow-x:auto;line-height:normal;font-family:Menlo,'DejaVu Sans Mono',consolas,'Courier New',monospace\"><span style=\"font-weight: bold\">NVIDIA</span>: Please help me clean up my name and buy back my reputation with the council.         \n",
       "</pre>\n"
      ],
      "text/plain": [
       "\u001B[1mNVIDIA\u001B[0m: Please help me clean up my name and buy back my reputation with the council.         \n"
      ]
     },
     "metadata": {},
     "output_type": "display_data"
    },
    {
     "data": {
      "text/html": [
       "<pre style=\"white-space:pre;overflow-x:auto;line-height:normal;font-family:Menlo,'DejaVu Sans Mono',consolas,'Courier New',monospace\">=========================                                                                    \n",
       "</pre>\n"
      ],
      "text/plain": [
       "=========================                                                                    \n"
      ]
     },
     "metadata": {},
     "output_type": "display_data"
    }
   ],
   "source": [
    "for _a, _ap, _ai in zip(answers, actual_prompts, openai_answers):\n",
    "    console.print(Markdown(\"**Original Test to paraphrase**: %s\" % _ap))\n",
    "    console.print(Markdown(\"**OpenAI**: %s\" % _ai))\n",
    "    console.print(Markdown(\"**NVIDIA**: %s\" % _a))\n",
    "    console.print(Markdown(\"=========================\\n\"))\n",
    "    "
   ]
  }
 ],
 "metadata": {
  "kernelspec": {
   "display_name": "Python 3",
   "language": "python",
   "name": "python3"
  },
  "language_info": {
   "codemirror_mode": {
    "name": "ipython",
    "version": 3
   },
   "file_extension": ".py",
   "mimetype": "text/x-python",
   "name": "python",
   "nbconvert_exporter": "python",
   "pygments_lexer": "ipython3",
   "version": "3.8.8"
  }
 },
 "nbformat": 4,
 "nbformat_minor": 1
}